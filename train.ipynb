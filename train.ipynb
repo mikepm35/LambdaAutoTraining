{
 "cells": [
  {
   "cell_type": "markdown",
   "metadata": {},
   "source": [
    "## Training file paired with LambdaAutoTraining project"
   ]
  },
  {
   "cell_type": "code",
   "execution_count": 1,
   "metadata": {},
   "outputs": [],
   "source": [
    "import tensorflow as tf\n",
    "import tensorflowjs as tfjs\n",
    "from tensorflow import keras\n",
    "import numpy as np\n",
    "import boto3\n",
    "import os\n",
    "import time\n",
    "import decimal"
   ]
  },
  {
   "cell_type": "markdown",
   "metadata": {},
   "source": [
    "**Set environment variables**"
   ]
  },
  {
   "cell_type": "code",
   "execution_count": 2,
   "metadata": {},
   "outputs": [
    {
     "name": "stdout",
     "output_type": "stream",
     "text": [
      "lambdaautotraining-models-dev lambdaautotraining-data-dev lambdaautotraining-dev us-east-1\n"
     ]
    }
   ],
   "source": [
    "table_models = os.environ.get('TABLE_MODELS')\n",
    "if not table_models:\n",
    "    table_models = 'lambdaautotraining-models-dev'\n",
    "    \n",
    "table_data = os.environ.get('TABLE_DATA')\n",
    "if not table_data:\n",
    "    table_data = 'lambdaautotraining-data-dev'\n",
    "    \n",
    "bucket = os.environ.get('BUCKET')\n",
    "if not bucket:\n",
    "    bucket = 'lambdaautotraining-dev'\n",
    "    \n",
    "region = os.environ.get('REGION')\n",
    "if not region:\n",
    "    region = 'us-east-1'\n",
    "    \n",
    "print(table_models, table_data, bucket, region)"
   ]
  },
  {
   "cell_type": "code",
   "execution_count": 3,
   "metadata": {},
   "outputs": [],
   "source": [
    "dynamodb = boto3.resource('dynamodb', region_name=region)\n",
    "dynamodb_data = dynamodb.Table(table_data)\n",
    "dynamodb_models = dynamodb.Table(table_models)"
   ]
  },
  {
   "cell_type": "markdown",
   "metadata": {},
   "source": [
    "**Retrieve all of the data from DynamoDB**"
   ]
  },
  {
   "cell_type": "code",
   "execution_count": 4,
   "metadata": {},
   "outputs": [],
   "source": [
    "response = dynamodb_data.scan()\n",
    "response_data = response['Items']\n",
    "\n",
    "while 'LastEvaluatedKey' in response:\n",
    "    response = dynamodb_data.scan(\n",
    "        ExclusiveStartKey=response['LastEvaluatedKey']\n",
    "    )\n",
    "    response_data += response['Items']"
   ]
  },
  {
   "cell_type": "code",
   "execution_count": 5,
   "metadata": {},
   "outputs": [
    {
     "data": {
      "text/plain": [
       "8"
      ]
     },
     "execution_count": 5,
     "metadata": {},
     "output_type": "execute_result"
    }
   ],
   "source": [
    "len(response_data)"
   ]
  },
  {
   "cell_type": "markdown",
   "metadata": {},
   "source": [
    "**Convert datatypes for training**"
   ]
  },
  {
   "cell_type": "code",
   "execution_count": 6,
   "metadata": {},
   "outputs": [],
   "source": [
    "x = []\n",
    "y = []"
   ]
  },
  {
   "cell_type": "code",
   "execution_count": 7,
   "metadata": {},
   "outputs": [],
   "source": [
    "for rec in response_data:\n",
    "    # convert Decimal datatype to float\n",
    "    x.append([\n",
    "        float(rec['temp']),\n",
    "        float(rec['clo']),\n",
    "        float(rec['rh']),\n",
    "        float(rec['wind']),        \n",
    "    ])\n",
    "    \n",
    "    # one-hot encoded\n",
    "    y_rec = [0,0,0]\n",
    "    if rec['label'] == 'cold': y_rec[0] = 1\n",
    "    elif rec['label'] == 'ok': y_rec[1] = 1\n",
    "    elif rec['label'] == 'warm': y_rec[2] = 1\n",
    "    y.append(y_rec)"
   ]
  },
  {
   "cell_type": "code",
   "execution_count": 8,
   "metadata": {},
   "outputs": [],
   "source": [
    "x_array = np.array(x)\n",
    "y_array = np.array(y)"
   ]
  },
  {
   "cell_type": "markdown",
   "metadata": {},
   "source": [
    "**Execute training**"
   ]
  },
  {
   "cell_type": "code",
   "execution_count": 9,
   "metadata": {},
   "outputs": [],
   "source": [
    "tf.keras.backend.clear_session()"
   ]
  },
  {
   "cell_type": "code",
   "execution_count": 10,
   "metadata": {},
   "outputs": [],
   "source": [
    "model = keras.Sequential()\n",
    "model.add(keras.layers.Dense(8, input_shape=[4], activation='relu'))\n",
    "model.add(keras.layers.Dense(3, activation='softmax'))"
   ]
  },
  {
   "cell_type": "code",
   "execution_count": 11,
   "metadata": {},
   "outputs": [],
   "source": [
    "model.compile(\n",
    "    optimizer=tf.keras.optimizers.Adam(0.1),\n",
    "    loss='categorical_crossentropy',\n",
    "    metrics=['accuracy']\n",
    ")"
   ]
  },
  {
   "cell_type": "code",
   "execution_count": 31,
   "metadata": {},
   "outputs": [
    {
     "name": "stdout",
     "output_type": "stream",
     "text": [
      "Epoch 1/25\n",
      "8/8 [==============================] - 0s 452us/sample - loss: 0.0371 - acc: 1.0000\n",
      "Epoch 2/25\n",
      "8/8 [==============================] - 0s 469us/sample - loss: 0.0343 - acc: 1.0000\n",
      "Epoch 3/25\n",
      "8/8 [==============================] - 0s 434us/sample - loss: 0.0306 - acc: 1.0000\n",
      "Epoch 4/25\n",
      "8/8 [==============================] - 0s 389us/sample - loss: 0.0278 - acc: 1.0000\n",
      "Epoch 5/25\n",
      "8/8 [==============================] - 0s 451us/sample - loss: 0.0261 - acc: 1.0000\n",
      "Epoch 6/25\n",
      "8/8 [==============================] - 0s 422us/sample - loss: 0.0242 - acc: 1.0000\n",
      "Epoch 7/25\n",
      "8/8 [==============================] - 0s 446us/sample - loss: 0.0231 - acc: 1.0000\n",
      "Epoch 8/25\n",
      "8/8 [==============================] - 0s 425us/sample - loss: 0.0221 - acc: 1.0000\n",
      "Epoch 9/25\n",
      "8/8 [==============================] - 0s 388us/sample - loss: 0.0207 - acc: 1.0000\n",
      "Epoch 10/25\n",
      "8/8 [==============================] - 0s 434us/sample - loss: 0.0195 - acc: 1.0000\n",
      "Epoch 11/25\n",
      "8/8 [==============================] - 0s 464us/sample - loss: 0.0186 - acc: 1.0000\n",
      "Epoch 12/25\n",
      "8/8 [==============================] - 0s 435us/sample - loss: 0.0173 - acc: 1.0000\n",
      "Epoch 13/25\n",
      "8/8 [==============================] - 0s 410us/sample - loss: 0.0168 - acc: 1.0000\n",
      "Epoch 14/25\n",
      "8/8 [==============================] - 0s 387us/sample - loss: 0.0160 - acc: 1.0000\n",
      "Epoch 15/25\n",
      "8/8 [==============================] - 0s 399us/sample - loss: 0.0154 - acc: 1.0000\n",
      "Epoch 16/25\n",
      "8/8 [==============================] - 0s 363us/sample - loss: 0.0148 - acc: 1.0000\n",
      "Epoch 17/25\n",
      "8/8 [==============================] - 0s 382us/sample - loss: 0.0142 - acc: 1.0000\n",
      "Epoch 18/25\n",
      "8/8 [==============================] - 0s 343us/sample - loss: 0.0136 - acc: 1.0000\n",
      "Epoch 19/25\n",
      "8/8 [==============================] - 0s 511us/sample - loss: 0.0131 - acc: 1.0000\n",
      "Epoch 20/25\n",
      "8/8 [==============================] - 0s 423us/sample - loss: 0.0126 - acc: 1.0000\n",
      "Epoch 21/25\n",
      "8/8 [==============================] - 0s 387us/sample - loss: 0.0122 - acc: 1.0000\n",
      "Epoch 22/25\n",
      "8/8 [==============================] - 0s 474us/sample - loss: 0.0119 - acc: 1.0000\n",
      "Epoch 23/25\n",
      "8/8 [==============================] - 0s 418us/sample - loss: 0.0115 - acc: 1.0000\n",
      "Epoch 24/25\n",
      "8/8 [==============================] - 0s 528us/sample - loss: 0.0111 - acc: 1.0000\n",
      "Epoch 25/25\n",
      "8/8 [==============================] - 0s 443us/sample - loss: 0.0107 - acc: 1.0000\n"
     ]
    }
   ],
   "source": [
    "model.fit(\n",
    "    x_array, y_array, \n",
    "    epochs=25, batch_size=4\n",
    ")"
   ]
  },
  {
   "cell_type": "code",
   "execution_count": 37,
   "metadata": {},
   "outputs": [
    {
     "data": {
      "text/plain": [
       "0.010748700704425573"
      ]
     },
     "execution_count": 37,
     "metadata": {},
     "output_type": "execute_result"
    }
   ],
   "source": [
    "model.history.history['loss'][-1:][0]"
   ]
  },
  {
   "cell_type": "markdown",
   "metadata": {},
   "source": [
    "**Convert model for js and upload**"
   ]
  },
  {
   "cell_type": "code",
   "execution_count": 25,
   "metadata": {},
   "outputs": [
    {
     "name": "stdout",
     "output_type": "stream",
     "text": [
      "1569976905088\n"
     ]
    }
   ],
   "source": [
    "created = int(time.time()*1000)\n",
    "print(created)"
   ]
  },
  {
   "cell_type": "code",
   "execution_count": 13,
   "metadata": {},
   "outputs": [],
   "source": [
    "tfjs.converters.save_keras_model(model, './tf_js/')"
   ]
  },
  {
   "cell_type": "code",
   "execution_count": 26,
   "metadata": {},
   "outputs": [],
   "source": [
    "for f in os.listdir('./tf_js'):\n",
    "    boto3.client('s3').upload_file('./tf_js/'+f, bucket, 'models/'+str(created)+'/'+f)\n",
    "    boto3.client('s3').upload_file('./tf_js/'+f, bucket, 'models/latest/'+f)"
   ]
  },
  {
   "cell_type": "markdown",
   "metadata": {},
   "source": [
    "**Update model data in dynamodb**"
   ]
  },
  {
   "cell_type": "code",
   "execution_count": 44,
   "metadata": {},
   "outputs": [
    {
     "data": {
      "text/plain": [
       "{'ResponseMetadata': {'RequestId': 'D9SU3PREN1S4G0CE3MP558OKU3VV4KQNSO5AEMVJF66Q9ASUAAJG',\n",
       "  'HTTPStatusCode': 200,\n",
       "  'HTTPHeaders': {'server': 'Server',\n",
       "   'date': 'Wed, 02 Oct 2019 00:50:05 GMT',\n",
       "   'content-type': 'application/x-amz-json-1.0',\n",
       "   'content-length': '2',\n",
       "   'connection': 'keep-alive',\n",
       "   'x-amzn-requestid': 'D9SU3PREN1S4G0CE3MP558OKU3VV4KQNSO5AEMVJF66Q9ASUAAJG',\n",
       "   'x-amz-crc32': '2745614147'},\n",
       "  'RetryAttempts': 0}}"
      ]
     },
     "execution_count": 44,
     "metadata": {},
     "output_type": "execute_result"
    }
   ],
   "source": [
    "dynamodb_models.put_item(\n",
    "    Item={\n",
    "        'created': created,\n",
    "        'samples': decimal.Decimal(str(len(response_data))),\n",
    "        'max_data_created': decimal.Decimal(str(max([int(i['created']) for i in response_data]))),\n",
    "        'loss': decimal.Decimal(str(model.history.history['loss'][-1:][0])),\n",
    "        'accuracy': decimal.Decimal(str(model.history.history['acc'][-1:][0])),\n",
    "    }\n",
    ")"
   ]
  },
  {
   "cell_type": "code",
   "execution_count": null,
   "metadata": {},
   "outputs": [],
   "source": []
  }
 ],
 "metadata": {
  "kernelspec": {
   "display_name": "Python 3",
   "language": "python",
   "name": "python3"
  },
  "language_info": {
   "codemirror_mode": {
    "name": "ipython",
    "version": 3
   },
   "file_extension": ".py",
   "mimetype": "text/x-python",
   "name": "python",
   "nbconvert_exporter": "python",
   "pygments_lexer": "ipython3",
   "version": "3.7.3"
  }
 },
 "nbformat": 4,
 "nbformat_minor": 2
}
