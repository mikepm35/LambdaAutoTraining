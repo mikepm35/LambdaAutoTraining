{
 "cells": [
  {
   "cell_type": "markdown",
   "metadata": {},
   "source": [
    "## Training file paired with LambdaAutoTraining project"
   ]
  },
  {
   "cell_type": "code",
   "execution_count": null,
   "metadata": {},
   "outputs": [],
   "source": [
    "import tensorflow as tf\n",
    "import tensorflowjs as tfjs\n",
    "from tensorflow import keras\n",
    "import numpy as np\n",
    "import boto3\n",
    "import os\n",
    "import time\n",
    "import decimal"
   ]
  },
  {
   "cell_type": "markdown",
   "metadata": {},
   "source": [
    "**Set environment variables**"
   ]
  },
  {
   "cell_type": "code",
   "execution_count": null,
   "metadata": {},
   "outputs": [],
   "source": [
    "table_models = os.environ.get('TABLE_MODELS')\n",
    "if not table_models:\n",
    "    table_models = 'lambdaautotraining-models-dev'\n",
    "    \n",
    "table_data = os.environ.get('TABLE_DATA')\n",
    "if not table_data:\n",
    "    table_data = 'lambdaautotraining-data-dev'\n",
    "    \n",
    "bucket = os.environ.get('BUCKET')\n",
    "if not bucket:\n",
    "    bucket = 'lambdaautotraining-dev'\n",
    "    \n",
    "region = os.environ.get('REGION')\n",
    "if not region:\n",
    "    region = 'us-east-1'\n",
    "    \n",
    "print(table_models, table_data, bucket, region)"
   ]
  },
  {
   "cell_type": "code",
   "execution_count": null,
   "metadata": {},
   "outputs": [],
   "source": [
    "dynamodb = boto3.resource('dynamodb', region_name=region)\n",
    "dynamodb_data = dynamodb.Table(table_data)\n",
    "dynamodb_models = dynamodb.Table(table_models)"
   ]
  },
  {
   "cell_type": "markdown",
   "metadata": {},
   "source": [
    "**Retrieve all of the data from DynamoDB**"
   ]
  },
  {
   "cell_type": "code",
   "execution_count": null,
   "metadata": {},
   "outputs": [],
   "source": [
    "response = dynamodb_data.scan()\n",
    "response_data = response['Items']\n",
    "\n",
    "while 'LastEvaluatedKey' in response:\n",
    "    response = dynamodb_data.scan(\n",
    "        ExclusiveStartKey=response['LastEvaluatedKey']\n",
    "    )\n",
    "    response_data += response['Items']"
   ]
  },
  {
   "cell_type": "code",
   "execution_count": null,
   "metadata": {},
   "outputs": [],
   "source": [
    "len(response_data)"
   ]
  },
  {
   "cell_type": "markdown",
   "metadata": {},
   "source": [
    "**Convert datatypes for training**"
   ]
  },
  {
   "cell_type": "code",
   "execution_count": null,
   "metadata": {},
   "outputs": [],
   "source": [
    "x = []\n",
    "y = []"
   ]
  },
  {
   "cell_type": "code",
   "execution_count": null,
   "metadata": {},
   "outputs": [],
   "source": [
    "for rec in response_data:\n",
    "    # convert Decimal datatype to float\n",
    "    x.append([\n",
    "        float(rec['temp']),\n",
    "        float(rec['clo']),\n",
    "        float(rec['rh']),\n",
    "        float(rec['wind']),        \n",
    "    ])\n",
    "    \n",
    "    # one-hot encoded\n",
    "    y_rec = [0,0,0]\n",
    "    if rec['label'] == 'cold': y_rec[0] = 1\n",
    "    elif rec['label'] == 'ok': y_rec[1] = 1\n",
    "    elif rec['label'] == 'warm': y_rec[2] = 1\n",
    "    y.append(y_rec)"
   ]
  },
  {
   "cell_type": "code",
   "execution_count": null,
   "metadata": {},
   "outputs": [],
   "source": [
    "x_array = np.array(x)\n",
    "y_array = np.array(y)"
   ]
  },
  {
   "cell_type": "markdown",
   "metadata": {},
   "source": [
    "**Execute training**"
   ]
  },
  {
   "cell_type": "code",
   "execution_count": null,
   "metadata": {},
   "outputs": [],
   "source": [
    "tf.keras.backend.clear_session()"
   ]
  },
  {
   "cell_type": "code",
   "execution_count": null,
   "metadata": {},
   "outputs": [],
   "source": [
    "model = keras.Sequential()\n",
    "model.add(keras.layers.Dense(8, input_shape=[4], activation='relu'))\n",
    "model.add(keras.layers.Dense(3, activation='softmax'))"
   ]
  },
  {
   "cell_type": "code",
   "execution_count": null,
   "metadata": {},
   "outputs": [],
   "source": [
    "model.compile(\n",
    "    optimizer=tf.keras.optimizers.Adam(0.1),\n",
    "    loss='categorical_crossentropy',\n",
    "    metrics=['accuracy']\n",
    ")"
   ]
  },
  {
   "cell_type": "code",
   "execution_count": null,
   "metadata": {},
   "outputs": [],
   "source": [
    "model.fit(\n",
    "    x_array, y_array, \n",
    "    epochs=25, batch_size=4\n",
    ")"
   ]
  },
  {
   "cell_type": "code",
   "execution_count": null,
   "metadata": {},
   "outputs": [],
   "source": [
    "model.history.history['loss'][-1:][0]"
   ]
  },
  {
   "cell_type": "markdown",
   "metadata": {},
   "source": [
    "**Convert model for js and upload**"
   ]
  },
  {
   "cell_type": "code",
   "execution_count": null,
   "metadata": {},
   "outputs": [],
   "source": [
    "created = int(time.time()*1000)\n",
    "print(created)"
   ]
  },
  {
   "cell_type": "code",
   "execution_count": null,
   "metadata": {},
   "outputs": [],
   "source": [
    "tfjs.converters.save_keras_model(model, './tf_js/')"
   ]
  },
  {
   "cell_type": "code",
   "execution_count": null,
   "metadata": {},
   "outputs": [],
   "source": [
    "for f in os.listdir('./tf_js'):\n",
    "    boto3.client('s3').upload_file('./tf_js/'+f, bucket, 'models/'+str(created)+'/'+f)\n",
    "    boto3.client('s3').upload_file('./tf_js/'+f, bucket, 'models/latest/'+f)"
   ]
  },
  {
   "cell_type": "markdown",
   "metadata": {},
   "source": [
    "**Update model data in dynamodb**"
   ]
  },
  {
   "cell_type": "code",
   "execution_count": null,
   "metadata": {},
   "outputs": [],
   "source": [
    "dynamodb_models.put_item(\n",
    "    Item={\n",
    "        'created': created,\n",
    "        'samples': decimal.Decimal(str(len(response_data))),\n",
    "        'max_data_created': decimal.Decimal(str(max([int(i['created']) for i in response_data]))),\n",
    "        'loss': decimal.Decimal(str(model.history.history['loss'][-1:][0])),\n",
    "        'accuracy': decimal.Decimal(str(model.history.history['acc'][-1:][0])),\n",
    "    }\n",
    ")"
   ]
  },
  {
   "cell_type": "code",
   "execution_count": null,
   "metadata": {},
   "outputs": [],
   "source": []
  }
 ],
 "metadata": {
  "kernelspec": {
   "display_name": "Python 3",
   "language": "python",
   "name": "python3"
  },
  "language_info": {
   "codemirror_mode": {
    "name": "ipython",
    "version": 3
   },
   "file_extension": ".py",
   "mimetype": "text/x-python",
   "name": "python",
   "nbconvert_exporter": "python",
   "pygments_lexer": "ipython3",
   "version": "3.7.3"
  }
 },
 "nbformat": 4,
 "nbformat_minor": 2
}
